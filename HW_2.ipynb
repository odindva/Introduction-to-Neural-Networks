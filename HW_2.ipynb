{
 "cells": [
  {
   "cell_type": "markdown",
   "metadata": {
    "id": "XvhEhpGm9U8z"
   },
   "source": [
    "## HW_2\n"
   ]
  },
  {
   "cell_type": "markdown",
   "metadata": {
    "id": "NRSQbmXD9U98"
   },
   "source": [
    "## Практическое задание\n",
    "\n",
    "Используем набор примеров fashion-MNIST\n",
    "\n",
    "1.  Опишите - какой результата получен в нейросети в зависимости от:\n",
    "  -  числа нейронов в слое(для 2-хслойной сети), \n",
    "  - числа слоев (2, 3, 5, 10) при близких размерах сети (близкое число тренируемых парметров).\n",
    "  - фиксируйте для тренировочного и тестового набора метрики accuracy.\n",
    "2.  Проверьте работу разных оптимизаторов (SGD, Adam, RMSProp) для одной из моделей п.1.Фиксируйте для тренировочного и тестового набора метрики accuracy.\n",
    "\n",
    "3. Сделайте вывод - что помогло вам улучшить качество классификации в нейросети на тестовом наборе? \n",
    "\n",
    "4. Для одного варианта сетей сформируйте матрицу ошибок по классам. Оцените качество модели по каждому классу отдельно (полнота , точность). Сделайте вывод."
   ]
  },
  {
   "cell_type": "code",
   "execution_count": 1,
   "metadata": {
    "colab": {
     "base_uri": "https://localhost:8080/"
    },
    "executionInfo": {
     "elapsed": 2779,
     "status": "ok",
     "timestamp": 1665508940360,
     "user": {
      "displayName": "Mariia Korliakova",
      "userId": "14165537686129864864"
     },
     "user_tz": -180
    },
    "id": "TQMMZ_jw9U9N",
    "outputId": "81992742-7b03-4fd4-a2ae-8f16dbf4eafa"
   },
   "outputs": [],
   "source": [
    "import numpy as np\n",
    "import pandas as pd\n",
    "import keras\n",
    "from sklearn.metrics import confusion_matrix\n",
    "from keras.datasets import mnist, boston_housing, fashion_mnist  # наборы для работы\n",
    "from keras.models import Sequential\n",
    "from keras.layers import Dense\n",
    "from keras.datasets import mnist\n",
    "from tensorflow.keras.utils import to_categorical\n",
    "import matplotlib.pyplot as plt"
   ]
  },
  {
   "cell_type": "code",
   "execution_count": 2,
   "metadata": {
    "colab": {
     "base_uri": "https://localhost:8080/"
    },
    "executionInfo": {
     "elapsed": 2779,
     "status": "ok",
     "timestamp": 1665508940360,
     "user": {
      "displayName": "Mariia Korliakova",
      "userId": "14165537686129864864"
     },
     "user_tz": -180
    },
    "id": "TQMMZ_jw9U9N",
    "outputId": "81992742-7b03-4fd4-a2ae-8f16dbf4eafa"
   },
   "outputs": [
    {
     "name": "stdout",
     "output_type": "stream",
     "text": [
      "(60000, 784)\n",
      "(10000, 784)\n"
     ]
    }
   ],
   "source": [
    "(train_imagesf,train_labelsf),(test_imagesf,test_labelsf)=fashion_mnist.load_data()\n",
    "\n",
    "# Normalize the images.\n",
    "train_imagesf = (train_imagesf / 127) - 1\n",
    "test_imagesf = (test_imagesf / 127) - 1\n",
    "\n",
    "# Flatten the images.\n",
    "train_images = train_imagesf.reshape((-1, 784))\n",
    "test_images = test_imagesf.reshape((-1, 784))\n",
    "\n",
    "print(train_images.shape) # (60000, 784)\n",
    "print(test_images.shape)  # (10000, 784)"
   ]
  },
  {
   "cell_type": "code",
   "execution_count": 3,
   "metadata": {
    "colab": {
     "base_uri": "https://localhost:8080/"
    },
    "executionInfo": {
     "elapsed": 9,
     "status": "ok",
     "timestamp": 1665509017399,
     "user": {
      "displayName": "Mariia Korliakova",
      "userId": "14165537686129864864"
     },
     "user_tz": -180
    },
    "id": "8x1GhqsXpixY",
    "outputId": "82722d58-18cc-4774-9688-7590902977d1"
   },
   "outputs": [
    {
     "data": {
      "text/plain": [
       "array([    3,    20,    25, ..., 59971, 59980, 59997], dtype=int64)"
      ]
     },
     "execution_count": 3,
     "metadata": {},
     "output_type": "execute_result"
    }
   ],
   "source": [
    "ind=np.where(train_labelsf==3)[0]\n",
    "ind"
   ]
  },
  {
   "cell_type": "code",
   "execution_count": 4,
   "metadata": {
    "colab": {
     "base_uri": "https://localhost:8080/",
     "height": 265
    },
    "executionInfo": {
     "elapsed": 7,
     "status": "ok",
     "timestamp": 1665509017399,
     "user": {
      "displayName": "Mariia Korliakova",
      "userId": "14165537686129864864"
     },
     "user_tz": -180
    },
    "id": "HgkWr0rjE47r",
    "outputId": "dabe80a4-12a7-4fbd-e5b5-f785f3a23b7e"
   },
   "outputs": [
    {
     "data": {
      "image/png": "[encoded data removed]",
      "text/plain": [
       "<Figure size 432x288 with 1 Axes>"
      ]
     },
     "metadata": {
      "needs_background": "light"
     },
     "output_type": "display_data"
    }
   ],
   "source": [
    "#plt.gray()\n",
    "plt.imshow(train_imagesf[3,:,:])\n",
    "plt.show()"
   ]
  },
  {
   "cell_type": "code",
   "execution_count": 5,
   "metadata": {},
   "outputs": [],
   "source": [
    "model1 = Sequential(name='my_model')\n",
    "model1.add( Dense(   128, activation='relu', input_shape=(784,)))  \n",
    "# входной слой + поносвязный слой из 128 нейронов с активацией ReLU\n",
    "for k in range(2):\n",
    "  model1.add(Dense(  10+(10-k)*10, activation='tanh')) \n",
    "  # Скрытый слой k из 10+(10-k)*10 нейронов с активацией tanh\n",
    "\n",
    "model1.add(Dense(10, activation='softmax')) \n",
    "# выходной слой из 10 нейронов (сколько классов, столько нейронов) + активация softmax"
   ]
  },
  {
   "cell_type": "code",
   "execution_count": 6,
   "metadata": {},
   "outputs": [],
   "source": [
    "model1.compile(\n",
    "  optimizer='adam', # оптимизатор\n",
    "  loss=keras.losses.CategoricalCrossentropy(), # функция потерь\n",
    "  metrics=['accuracy'], # метрика\n",
    ") "
   ]
  },
  {
   "cell_type": "code",
   "execution_count": 7,
   "metadata": {},
   "outputs": [
    {
     "name": "stdout",
     "output_type": "stream",
     "text": [
      "Model: \"my_model\"\n",
      "_________________________________________________________________\n",
      " Layer (type)                Output Shape              Param #   \n",
      "=================================================================\n",
      " dense (Dense)               (None, 128)               100480    \n",
      "                                                                 \n",
      " dense_1 (Dense)             (None, 110)               14190     \n",
      "                                                                 \n",
      " dense_2 (Dense)             (None, 100)               11100     \n",
      "                                                                 \n",
      " dense_3 (Dense)             (None, 10)                1010      \n",
      "                                                                 \n",
      "=================================================================\n",
      "Total params: 126,780\n",
      "Trainable params: 126,780\n",
      "Non-trainable params: 0\n",
      "_________________________________________________________________\n"
     ]
    }
   ],
   "source": [
    "model1.summary()"
   ]
  },
  {
   "cell_type": "code",
   "execution_count": 8,
   "metadata": {},
   "outputs": [],
   "source": [
    "y_t = to_categorical( train_labelsf)\n",
    "y_tt = to_categorical(test_labelsf)"
   ]
  },
  {
   "cell_type": "code",
   "execution_count": 9,
   "metadata": {
    "scrolled": true
   },
   "outputs": [
    {
     "name": "stdout",
     "output_type": "stream",
     "text": [
      "Epoch 1/15\n",
      "188/188 [==============================] - 1s 5ms/step - loss: 0.5582 - accuracy: 0.8049 - val_loss: 0.4335 - val_accuracy: 0.8429\n",
      "Epoch 2/15\n",
      "188/188 [==============================] - 1s 4ms/step - loss: 0.3835 - accuracy: 0.8599 - val_loss: 0.3862 - val_accuracy: 0.8629\n",
      "Epoch 3/15\n",
      "188/188 [==============================] - 1s 4ms/step - loss: 0.3453 - accuracy: 0.8732 - val_loss: 0.3540 - val_accuracy: 0.8701\n",
      "Epoch 4/15\n",
      "188/188 [==============================] - 1s 4ms/step - loss: 0.3171 - accuracy: 0.8844 - val_loss: 0.3568 - val_accuracy: 0.8670\n",
      "Epoch 5/15\n",
      "188/188 [==============================] - 1s 4ms/step - loss: 0.3020 - accuracy: 0.8882 - val_loss: 0.3397 - val_accuracy: 0.8737\n",
      "Epoch 6/15\n",
      "188/188 [==============================] - 1s 4ms/step - loss: 0.2793 - accuracy: 0.8969 - val_loss: 0.3380 - val_accuracy: 0.8792\n",
      "Epoch 7/15\n",
      "188/188 [==============================] - 1s 4ms/step - loss: 0.2670 - accuracy: 0.9021 - val_loss: 0.3217 - val_accuracy: 0.8841\n",
      "Epoch 8/15\n",
      "188/188 [==============================] - 1s 4ms/step - loss: 0.2556 - accuracy: 0.9060 - val_loss: 0.3318 - val_accuracy: 0.8797\n",
      "Epoch 9/15\n",
      "188/188 [==============================] - 1s 6ms/step - loss: 0.2450 - accuracy: 0.9087 - val_loss: 0.3211 - val_accuracy: 0.8848\n",
      "Epoch 10/15\n",
      "188/188 [==============================] - 1s 4ms/step - loss: 0.2327 - accuracy: 0.9126 - val_loss: 0.3122 - val_accuracy: 0.8876\n",
      "Epoch 11/15\n",
      "188/188 [==============================] - 1s 4ms/step - loss: 0.2216 - accuracy: 0.9179 - val_loss: 0.3171 - val_accuracy: 0.8866\n",
      "Epoch 12/15\n",
      "188/188 [==============================] - 1s 6ms/step - loss: 0.2084 - accuracy: 0.9231 - val_loss: 0.3390 - val_accuracy: 0.8800\n",
      "Epoch 13/15\n",
      "188/188 [==============================] - 1s 5ms/step - loss: 0.2049 - accuracy: 0.9239 - val_loss: 0.3276 - val_accuracy: 0.8839\n",
      "Epoch 14/15\n",
      "188/188 [==============================] - 1s 5ms/step - loss: 0.1967 - accuracy: 0.9274 - val_loss: 0.3305 - val_accuracy: 0.8859\n",
      "Epoch 15/15\n",
      "188/188 [==============================] - 1s 5ms/step - loss: 0.1874 - accuracy: 0.9302 - val_loss: 0.3254 - val_accuracy: 0.8905\n",
      "313/313 [==============================] - 1s 2ms/step - loss: 0.3597 - accuracy: 0.8786\n",
      "1/1 [==============================] - 0s 102ms/step\n",
      "[9 2 1 1 6]\n",
      "[9 2 1 1 6]\n"
     ]
    }
   ],
   "source": [
    "\n",
    "# Train the model.\n",
    "hh = model1.fit(    \n",
    "  train_images,\n",
    "  y_t,\n",
    "  epochs=15,\n",
    "  batch_size=256, \n",
    "  validation_split=0.2\n",
    ")\n",
    "\n",
    "# Evaluate the model.\n",
    "model1.evaluate( \n",
    "  test_images,\n",
    "  y_tt\n",
    ")\n",
    "\n",
    "# Predict on the first 5 test images.\n",
    "predictions = model1.predict(test_images[:5])\n",
    "\n",
    "# Print our model's predictions.\n",
    "print(np.argmax(predictions, axis=1)) # [7, 2, 1, 0, 4]\n",
    "\n",
    "# Check our predictions against the ground truths.\n",
    "print(test_labelsf[:5]) # [7, 2, 1, 0, 4]"
   ]
  },
  {
   "cell_type": "code",
   "execution_count": 10,
   "metadata": {},
   "outputs": [
    {
     "data": {
      "image/png": "[encoded data removed]",
      "text/plain": [
       "<Figure size 1080x504 with 1 Axes>"
      ]
     },
     "metadata": {
      "needs_background": "light"
     },
     "output_type": "display_data"
    }
   ],
   "source": [
    "plt.figure(figsize=(15,7))\n",
    "plt.plot(hh.history['loss'], label = 'потери для тренировки')\n",
    "plt.plot(hh.history['val_loss'], label = 'потери для валидации')\n",
    "plt.xlabel('эпох')\n",
    "plt.ylabel('loss')\n",
    "plt.legend()\n",
    "plt.grid('On')\n",
    "plt.title('потери от эпох')\n",
    "plt.show()\n"
   ]
  },
  {
   "cell_type": "code",
   "execution_count": null,
   "metadata": {},
   "outputs": [],
   "source": []
  },
  {
   "cell_type": "code",
   "execution_count": null,
   "metadata": {},
   "outputs": [],
   "source": []
  },
  {
   "cell_type": "markdown",
   "metadata": {},
   "source": [
    "## Оценим влияние количества нейронов в 2-х слойной сети"
   ]
  },
  {
   "cell_type": "code",
   "execution_count": 11,
   "metadata": {},
   "outputs": [],
   "source": [
    "models = []"
   ]
  },
  {
   "cell_type": "code",
   "execution_count": 12,
   "metadata": {},
   "outputs": [
    {
     "name": "stdout",
     "output_type": "stream",
     "text": [
      "1875/1875 [==============================] - 2s 1ms/step - loss: 0.3793 - accuracy: 0.8675\n",
      "313/313 [==============================] - 0s 1ms/step - loss: 0.4425 - accuracy: 0.8440\n",
      "\n",
      "1875/1875 [==============================] - 3s 1ms/step - loss: 0.2710 - accuracy: 0.9026\n",
      "313/313 [==============================] - 0s 1ms/step - loss: 0.3630 - accuracy: 0.8708\n",
      "\n",
      "1875/1875 [==============================] - 3s 2ms/step - loss: 0.2399 - accuracy: 0.9146\n",
      "313/313 [==============================] - 0s 1ms/step - loss: 0.3492 - accuracy: 0.8754\n",
      "\n",
      "1875/1875 [==============================] - 3s 2ms/step - loss: 0.2244 - accuracy: 0.9202\n",
      "313/313 [==============================] - 0s 1ms/step - loss: 0.3414 - accuracy: 0.8826\n",
      "\n",
      "1875/1875 [==============================] - 3s 2ms/step - loss: 0.2404 - accuracy: 0.9136\n",
      "313/313 [==============================] - 1s 2ms/step - loss: 0.3441 - accuracy: 0.8797\n",
      "\n",
      "1875/1875 [==============================] - 4s 2ms/step - loss: 0.2382 - accuracy: 0.9143\n",
      "313/313 [==============================] - 1s 2ms/step - loss: 0.3390 - accuracy: 0.8814\n",
      "\n",
      "1875/1875 [==============================] - 6s 3ms/step - loss: 0.2109 - accuracy: 0.9238\n",
      "313/313 [==============================] - 1s 3ms/step - loss: 0.3422 - accuracy: 0.8837\n",
      "\n",
      "1875/1875 [==============================] - 8s 4ms/step - loss: 0.2136 - accuracy: 0.9244\n",
      "313/313 [==============================] - 1s 4ms/step - loss: 0.3461 - accuracy: 0.8830\n",
      "\n",
      "Wall time: 3min 17s\n"
     ]
    }
   ],
   "source": [
    "%%time\n",
    "\n",
    "for i in [10, 50, 100, 200, 300, 500, 1000, 2000]:\n",
    "    model = Sequential(name=f'relu{i}')\n",
    "    model.add(Dense(i, activation='relu', input_shape=(784,)))\n",
    "    model.add(Dense(10, activation='softmax'))\n",
    "    model.compile(\n",
    "          optimizer='adam', # оптимизатор\n",
    "          loss=keras.losses.CategoricalCrossentropy(), # функция потерь\n",
    "          metrics=['accuracy'], # метрика\n",
    "    )\n",
    "    # Train the model.\n",
    "    hh = model.fit(    \n",
    "        train_images,\n",
    "        y_t,\n",
    "        epochs=100000,\n",
    "        batch_size=256, \n",
    "        validation_split=0.2,\n",
    "        callbacks=[keras.callbacks.EarlyStopping(\n",
    "                        monitor=\"val_loss\",\n",
    "                        min_delta=0.00001,\n",
    "                        patience=3,\n",
    "                        verbose=0,\n",
    "                        mode=\"auto\",\n",
    "                        baseline=None,\n",
    "                        restore_best_weights=True,)\n",
    "                  ],\n",
    "        verbose=0\n",
    "    )\n",
    "    train_metrics = model.evaluate(train_images, y_t)\n",
    "    test_metrics = model.evaluate(test_images, y_tt)\n",
    "    models.append({\n",
    "        'group': 0,\n",
    "        'name': model.name,\n",
    "        'model': model,\n",
    "        'hystory': hh,\n",
    "        'n_layers': 2,\n",
    "        'n_neurons': i,\n",
    "        'optimizer': 'adam',\n",
    "        'train_loss': train_metrics[0],\n",
    "        'test_loss': test_metrics[0],\n",
    "        'train_accuracy': train_metrics[1],\n",
    "        'test_accuracy': test_metrics[1],\n",
    "    })\n",
    "    print()"
   ]
  },
  {
   "cell_type": "code",
   "execution_count": 13,
   "metadata": {},
   "outputs": [
    {
     "data": {
      "text/html": [
       "<div>\n",
       "<style scoped>\n",
       "    .dataframe tbody tr th:only-of-type {\n",
       "        vertical-align: middle;\n",
       "    }\n",
       "\n",
       "    .dataframe tbody tr th {\n",
       "        vertical-align: top;\n",
       "    }\n",
       "\n",
       "    .dataframe thead th {\n",
       "        text-align: right;\n",
       "    }\n",
       "</style>\n",
       "<table border=\"1\" class=\"dataframe\">\n",
       "  <thead>\n",
       "    <tr style=\"text-align: right;\">\n",
       "      <th></th>\n",
       "      <th>group</th>\n",
       "      <th>name</th>\n",
       "      <th>n_layers</th>\n",
       "      <th>n_neurons</th>\n",
       "      <th>optimizer</th>\n",
       "      <th>train_loss</th>\n",
       "      <th>test_loss</th>\n",
       "      <th>train_accuracy</th>\n",
       "      <th>test_accuracy</th>\n",
       "    </tr>\n",
       "  </thead>\n",
       "  <tbody>\n",
       "    <tr>\n",
       "      <th>0</th>\n",
       "      <td>0</td>\n",
       "      <td>relu10</td>\n",
       "      <td>2</td>\n",
       "      <td>10</td>\n",
       "      <td>adam</td>\n",
       "      <td>0.379344</td>\n",
       "      <td>0.442508</td>\n",
       "      <td>0.867500</td>\n",
       "      <td>0.8440</td>\n",
       "    </tr>\n",
       "    <tr>\n",
       "      <th>1</th>\n",
       "      <td>0</td>\n",
       "      <td>relu50</td>\n",
       "      <td>2</td>\n",
       "      <td>50</td>\n",
       "      <td>adam</td>\n",
       "      <td>0.270953</td>\n",
       "      <td>0.363001</td>\n",
       "      <td>0.902617</td>\n",
       "      <td>0.8708</td>\n",
       "    </tr>\n",
       "    <tr>\n",
       "      <th>2</th>\n",
       "      <td>0</td>\n",
       "      <td>relu100</td>\n",
       "      <td>2</td>\n",
       "      <td>100</td>\n",
       "      <td>adam</td>\n",
       "      <td>0.239864</td>\n",
       "      <td>0.349173</td>\n",
       "      <td>0.914617</td>\n",
       "      <td>0.8754</td>\n",
       "    </tr>\n",
       "    <tr>\n",
       "      <th>3</th>\n",
       "      <td>0</td>\n",
       "      <td>relu200</td>\n",
       "      <td>2</td>\n",
       "      <td>200</td>\n",
       "      <td>adam</td>\n",
       "      <td>0.224442</td>\n",
       "      <td>0.341353</td>\n",
       "      <td>0.920250</td>\n",
       "      <td>0.8826</td>\n",
       "    </tr>\n",
       "    <tr>\n",
       "      <th>4</th>\n",
       "      <td>0</td>\n",
       "      <td>relu300</td>\n",
       "      <td>2</td>\n",
       "      <td>300</td>\n",
       "      <td>adam</td>\n",
       "      <td>0.240445</td>\n",
       "      <td>0.344120</td>\n",
       "      <td>0.913650</td>\n",
       "      <td>0.8797</td>\n",
       "    </tr>\n",
       "    <tr>\n",
       "      <th>5</th>\n",
       "      <td>0</td>\n",
       "      <td>relu500</td>\n",
       "      <td>2</td>\n",
       "      <td>500</td>\n",
       "      <td>adam</td>\n",
       "      <td>0.238210</td>\n",
       "      <td>0.339001</td>\n",
       "      <td>0.914317</td>\n",
       "      <td>0.8814</td>\n",
       "    </tr>\n",
       "    <tr>\n",
       "      <th>6</th>\n",
       "      <td>0</td>\n",
       "      <td>relu1000</td>\n",
       "      <td>2</td>\n",
       "      <td>1000</td>\n",
       "      <td>adam</td>\n",
       "      <td>0.210902</td>\n",
       "      <td>0.342158</td>\n",
       "      <td>0.923833</td>\n",
       "      <td>0.8837</td>\n",
       "    </tr>\n",
       "    <tr>\n",
       "      <th>7</th>\n",
       "      <td>0</td>\n",
       "      <td>relu2000</td>\n",
       "      <td>2</td>\n",
       "      <td>2000</td>\n",
       "      <td>adam</td>\n",
       "      <td>0.213551</td>\n",
       "      <td>0.346140</td>\n",
       "      <td>0.924417</td>\n",
       "      <td>0.8830</td>\n",
       "    </tr>\n",
       "  </tbody>\n",
       "</table>\n",
       "</div>"
      ],
      "text/plain": [
       "   group      name  n_layers  n_neurons optimizer  train_loss  test_loss  \\\n",
       "0      0    relu10         2         10      adam    0.379344   0.442508   \n",
       "1      0    relu50         2         50      adam    0.270953   0.363001   \n",
       "2      0   relu100         2        100      adam    0.239864   0.349173   \n",
       "3      0   relu200         2        200      adam    0.224442   0.341353   \n",
       "4      0   relu300         2        300      adam    0.240445   0.344120   \n",
       "5      0   relu500         2        500      adam    0.238210   0.339001   \n",
       "6      0  relu1000         2       1000      adam    0.210902   0.342158   \n",
       "7      0  relu2000         2       2000      adam    0.213551   0.346140   \n",
       "\n",
       "   train_accuracy  test_accuracy  \n",
       "0        0.867500         0.8440  \n",
       "1        0.902617         0.8708  \n",
       "2        0.914617         0.8754  \n",
       "3        0.920250         0.8826  \n",
       "4        0.913650         0.8797  \n",
       "5        0.914317         0.8814  \n",
       "6        0.923833         0.8837  \n",
       "7        0.924417         0.8830  "
      ]
     },
     "execution_count": 13,
     "metadata": {},
     "output_type": "execute_result"
    }
   ],
   "source": [
    "pd.DataFrame(models).drop(['model', 'hystory'],axis=1)"
   ]
  },
  {
   "cell_type": "code",
   "execution_count": 14,
   "metadata": {},
   "outputs": [
    {
     "data": {
      "image/png": "[encoded data removed]",
      "text/plain": [
       "<Figure size 1080x504 with 1 Axes>"
      ]
     },
     "metadata": {
      "needs_background": "light"
     },
     "output_type": "display_data"
    }
   ],
   "source": [
    "plt.figure(figsize=(15,7))\n",
    "for model in models:\n",
    "    hh = model['hystory']\n",
    "#     plt.plot(hh.history['loss'], label = f'{model[\"name\"]} train')\n",
    "    plt.plot(hh.history['val_loss'], label = f'{model[\"name\"]} val')\n",
    "plt.xlabel('эпох')\n",
    "plt.ylabel('loss')\n",
    "plt.legend()\n",
    "plt.grid('On')\n",
    "plt.title('потери от эпох')\n",
    "plt.show()"
   ]
  },
  {
   "cell_type": "markdown",
   "metadata": {},
   "source": [
    "Очевидно, что для данного случая при выбранном наборе гиперпараметров 10 и 50 нейронов не достаточно. Всё, что выше имеет место быть, но с учетом ресурсов для вычислений"
   ]
  },
  {
   "cell_type": "markdown",
   "metadata": {},
   "source": [
    "## Оценим влияние количества слоёв"
   ]
  },
  {
   "cell_type": "markdown",
   "metadata": {},
   "source": [
    "Выбираем модели с 200ми нейронами на каждом слое (скорее всего это плохой выбор, но быстрый)"
   ]
  },
  {
   "cell_type": "code",
   "execution_count": 15,
   "metadata": {},
   "outputs": [
    {
     "name": "stdout",
     "output_type": "stream",
     "text": [
      "1875/1875 [==============================] - 3s 1ms/step - loss: 0.2325 - accuracy: 0.9158\n",
      "313/313 [==============================] - 0s 1ms/step - loss: 0.3424 - accuracy: 0.8792\n",
      "\n",
      "1875/1875 [==============================] - 3s 1ms/step - loss: 0.2320 - accuracy: 0.9135\n",
      "313/313 [==============================] - 1s 2ms/step - loss: 0.3442 - accuracy: 0.8790\n",
      "\n",
      "1875/1875 [==============================] - 3s 2ms/step - loss: 0.2616 - accuracy: 0.9040\n",
      "313/313 [==============================] - 1s 2ms/step - loss: 0.3457 - accuracy: 0.8765\n",
      "\n",
      "1875/1875 [==============================] - 5s 2ms/step - loss: 0.2468 - accuracy: 0.9097\n",
      "313/313 [==============================] - 1s 3ms/step - loss: 0.3512 - accuracy: 0.8781\n",
      "\n",
      "Wall time: 1min 12s\n"
     ]
    }
   ],
   "source": [
    "%%time\n",
    "\n",
    "n_neurons = 200\n",
    "for n_layers in [2, 3, 5, 10]:\n",
    "    model = Sequential(name=f'relu_{n_neurons}x{n_layers-1}')\n",
    "    model.add(Dense(n_neurons, activation='relu', input_shape=(784,)))\n",
    "    for i in range(n_layers-2):\n",
    "        model.add(Dense(n_neurons, activation='relu'))\n",
    "    model.add(Dense(10, activation='softmax'))\n",
    "    model.compile(\n",
    "          optimizer='adam', # оптимизатор\n",
    "          loss=keras.losses.CategoricalCrossentropy(), # функция потерь\n",
    "          metrics=['accuracy'], # метрика\n",
    "    )\n",
    "    # Train the model.\n",
    "    hh = model.fit(    \n",
    "        train_images,\n",
    "        y_t,\n",
    "        epochs=100000,\n",
    "        batch_size=256, \n",
    "        validation_split=0.2,\n",
    "        callbacks=[keras.callbacks.EarlyStopping(\n",
    "                        monitor=\"val_loss\",\n",
    "                        min_delta=0.00001,\n",
    "                        patience=3,\n",
    "                        verbose=0,\n",
    "                        mode=\"auto\",\n",
    "                        baseline=None,\n",
    "                        restore_best_weights=True,)\n",
    "                  ],\n",
    "        verbose=0\n",
    "    )\n",
    "    train_metrics = model.evaluate(train_images, y_t)\n",
    "    test_metrics = model.evaluate(test_images, y_tt)\n",
    "    models.append({\n",
    "        'group': 1,\n",
    "        'name': model.name,\n",
    "        'model': model,\n",
    "        'hystory': hh,\n",
    "        'n_layers': n_layers,\n",
    "        'n_neurons': n_neurons,\n",
    "        'optimizer': 'adam',\n",
    "        'train_loss': train_metrics[0],\n",
    "        'test_loss': test_metrics[0],\n",
    "        'train_accuracy': train_metrics[1],\n",
    "        'test_accuracy': test_metrics[1],\n",
    "    })\n",
    "    print()"
   ]
  },
  {
   "cell_type": "code",
   "execution_count": 16,
   "metadata": {},
   "outputs": [
    {
     "data": {
      "text/html": [
       "<div>\n",
       "<style scoped>\n",
       "    .dataframe tbody tr th:only-of-type {\n",
       "        vertical-align: middle;\n",
       "    }\n",
       "\n",
       "    .dataframe tbody tr th {\n",
       "        vertical-align: top;\n",
       "    }\n",
       "\n",
       "    .dataframe thead th {\n",
       "        text-align: right;\n",
       "    }\n",
       "</style>\n",
       "<table border=\"1\" class=\"dataframe\">\n",
       "  <thead>\n",
       "    <tr style=\"text-align: right;\">\n",
       "      <th></th>\n",
       "      <th>group</th>\n",
       "      <th>name</th>\n",
       "      <th>n_layers</th>\n",
       "      <th>n_neurons</th>\n",
       "      <th>optimizer</th>\n",
       "      <th>train_loss</th>\n",
       "      <th>test_loss</th>\n",
       "      <th>train_accuracy</th>\n",
       "      <th>test_accuracy</th>\n",
       "    </tr>\n",
       "  </thead>\n",
       "  <tbody>\n",
       "    <tr>\n",
       "      <th>8</th>\n",
       "      <td>1</td>\n",
       "      <td>relu_200x1</td>\n",
       "      <td>2</td>\n",
       "      <td>200</td>\n",
       "      <td>adam</td>\n",
       "      <td>0.232471</td>\n",
       "      <td>0.342378</td>\n",
       "      <td>0.915783</td>\n",
       "      <td>0.8792</td>\n",
       "    </tr>\n",
       "    <tr>\n",
       "      <th>9</th>\n",
       "      <td>1</td>\n",
       "      <td>relu_200x2</td>\n",
       "      <td>3</td>\n",
       "      <td>200</td>\n",
       "      <td>adam</td>\n",
       "      <td>0.231968</td>\n",
       "      <td>0.344219</td>\n",
       "      <td>0.913533</td>\n",
       "      <td>0.8790</td>\n",
       "    </tr>\n",
       "    <tr>\n",
       "      <th>10</th>\n",
       "      <td>1</td>\n",
       "      <td>relu_200x4</td>\n",
       "      <td>5</td>\n",
       "      <td>200</td>\n",
       "      <td>adam</td>\n",
       "      <td>0.261572</td>\n",
       "      <td>0.345747</td>\n",
       "      <td>0.904033</td>\n",
       "      <td>0.8765</td>\n",
       "    </tr>\n",
       "    <tr>\n",
       "      <th>11</th>\n",
       "      <td>1</td>\n",
       "      <td>relu_200x9</td>\n",
       "      <td>10</td>\n",
       "      <td>200</td>\n",
       "      <td>adam</td>\n",
       "      <td>0.246756</td>\n",
       "      <td>0.351194</td>\n",
       "      <td>0.909667</td>\n",
       "      <td>0.8781</td>\n",
       "    </tr>\n",
       "  </tbody>\n",
       "</table>\n",
       "</div>"
      ],
      "text/plain": [
       "    group        name  n_layers  n_neurons optimizer  train_loss  test_loss  \\\n",
       "8       1  relu_200x1         2        200      adam    0.232471   0.342378   \n",
       "9       1  relu_200x2         3        200      adam    0.231968   0.344219   \n",
       "10      1  relu_200x4         5        200      adam    0.261572   0.345747   \n",
       "11      1  relu_200x9        10        200      adam    0.246756   0.351194   \n",
       "\n",
       "    train_accuracy  test_accuracy  \n",
       "8         0.915783         0.8792  \n",
       "9         0.913533         0.8790  \n",
       "10        0.904033         0.8765  \n",
       "11        0.909667         0.8781  "
      ]
     },
     "execution_count": 16,
     "metadata": {},
     "output_type": "execute_result"
    }
   ],
   "source": [
    "pd.DataFrame(models).loc[pd.DataFrame(models)['group'] == 1].drop(['model', 'hystory'],axis=1)"
   ]
  },
  {
   "cell_type": "code",
   "execution_count": 17,
   "metadata": {},
   "outputs": [
    {
     "data": {
      "image/png": "[encoded data removed]",
      "text/plain": [
       "<Figure size 1080x504 with 1 Axes>"
      ]
     },
     "metadata": {
      "needs_background": "light"
     },
     "output_type": "display_data"
    }
   ],
   "source": [
    "plt.figure(figsize=(15,7))\n",
    "for model in models:\n",
    "    if model['group'] == 1:\n",
    "        hh = model['hystory']\n",
    "    #     plt.plot(hh.history['loss'], label = f'{model[\"name\"]} train')\n",
    "        plt.plot(hh.history['val_loss'], label = f'{model[\"name\"]} val')\n",
    "plt.xlabel('эпох')\n",
    "plt.ylabel('loss')\n",
    "plt.legend()\n",
    "plt.grid('On')\n",
    "plt.title('потери от эпох')\n",
    "plt.show()"
   ]
  },
  {
   "cell_type": "markdown",
   "metadata": {},
   "source": [
    "Видим, что и 1 внутренний слой с таким количеством нейронов справляется, но с двумя сеть обучается немного быстрее (по количеству эпох)"
   ]
  },
  {
   "cell_type": "markdown",
   "metadata": {},
   "source": [
    "## Оценим влияние оптимизаторов"
   ]
  },
  {
   "cell_type": "markdown",
   "metadata": {},
   "source": [
    "Выбираем 3-слойную сеть"
   ]
  },
  {
   "cell_type": "code",
   "execution_count": 18,
   "metadata": {},
   "outputs": [
    {
     "name": "stdout",
     "output_type": "stream",
     "text": [
      "1875/1875 [==============================] - 3s 2ms/step - loss: 0.3182 - accuracy: 0.8873\n",
      "313/313 [==============================] - 1s 2ms/step - loss: 0.3797 - accuracy: 0.8645\n",
      "\n",
      "1875/1875 [==============================] - 3s 2ms/step - loss: 0.3010 - accuracy: 0.8889\n",
      "313/313 [==============================] - 1s 2ms/step - loss: 0.3711 - accuracy: 0.8679\n",
      "\n",
      "1875/1875 [==============================] - 3s 2ms/step - loss: 0.2400 - accuracy: 0.9130\n",
      "313/313 [==============================] - 1s 2ms/step - loss: 0.3423 - accuracy: 0.8785\n",
      "\n",
      "1875/1875 [==============================] - 3s 1ms/step - loss: 0.2920 - accuracy: 0.8972\n",
      "313/313 [==============================] - 0s 1ms/step - loss: 0.3623 - accuracy: 0.8721\n",
      "\n",
      "Wall time: 5min 26s\n"
     ]
    }
   ],
   "source": [
    "%%time\n",
    "\n",
    "n_neurons = 200\n",
    "n_layers = 3\n",
    "for optimizer in ['SGD', 'RMSprop', 'Adam', 'Adagrad']:\n",
    "    model = Sequential(name=f'relu_{n_neurons}x{n_layers-1}_{optimizer}')\n",
    "    model.add(Dense(n_neurons, activation='relu', input_shape=(784,)))\n",
    "    for i in range(n_layers-2):\n",
    "        model.add(Dense(n_neurons, activation='relu'))\n",
    "    model.add(Dense(10, activation='softmax'))\n",
    "    model.compile(\n",
    "          optimizer=optimizer, # оптимизатор\n",
    "          loss=keras.losses.CategoricalCrossentropy(), # функция потерь\n",
    "          metrics=['accuracy'], # метрика\n",
    "    )\n",
    "    # Train the model.\n",
    "    hh = model.fit(    \n",
    "        train_images,\n",
    "        y_t,\n",
    "        epochs=100000,\n",
    "        batch_size=256, \n",
    "        validation_split=0.2,\n",
    "        callbacks=[keras.callbacks.EarlyStopping(\n",
    "                        monitor=\"val_loss\",\n",
    "                        min_delta=0.00001,\n",
    "                        patience=3,\n",
    "                        verbose=0,\n",
    "                        mode=\"auto\",\n",
    "                        baseline=None,\n",
    "                        restore_best_weights=True,)\n",
    "                  ],\n",
    "        verbose=0\n",
    "    )\n",
    "    train_metrics = model.evaluate(train_images, y_t)\n",
    "    test_metrics = model.evaluate(test_images, y_tt)\n",
    "    models.append({\n",
    "        'group': 2,\n",
    "        'name': model.name,\n",
    "        'model': model,\n",
    "        'hystory': hh,\n",
    "        'n_layers': n_layers,\n",
    "        'n_neurons': n_neurons,\n",
    "        'optimizer': optimizer,\n",
    "        'train_loss': train_metrics[0],\n",
    "        'test_loss': test_metrics[0],\n",
    "        'train_accuracy': train_metrics[1],\n",
    "        'test_accuracy': test_metrics[1],\n",
    "    })\n",
    "    print()"
   ]
  },
  {
   "cell_type": "code",
   "execution_count": 19,
   "metadata": {},
   "outputs": [
    {
     "data": {
      "text/html": [
       "<div>\n",
       "<style scoped>\n",
       "    .dataframe tbody tr th:only-of-type {\n",
       "        vertical-align: middle;\n",
       "    }\n",
       "\n",
       "    .dataframe tbody tr th {\n",
       "        vertical-align: top;\n",
       "    }\n",
       "\n",
       "    .dataframe thead th {\n",
       "        text-align: right;\n",
       "    }\n",
       "</style>\n",
       "<table border=\"1\" class=\"dataframe\">\n",
       "  <thead>\n",
       "    <tr style=\"text-align: right;\">\n",
       "      <th></th>\n",
       "      <th>group</th>\n",
       "      <th>name</th>\n",
       "      <th>n_layers</th>\n",
       "      <th>n_neurons</th>\n",
       "      <th>optimizer</th>\n",
       "      <th>train_loss</th>\n",
       "      <th>test_loss</th>\n",
       "      <th>train_accuracy</th>\n",
       "      <th>test_accuracy</th>\n",
       "    </tr>\n",
       "  </thead>\n",
       "  <tbody>\n",
       "    <tr>\n",
       "      <th>12</th>\n",
       "      <td>2</td>\n",
       "      <td>relu_200x2_SGD</td>\n",
       "      <td>3</td>\n",
       "      <td>200</td>\n",
       "      <td>SGD</td>\n",
       "      <td>0.318202</td>\n",
       "      <td>0.379655</td>\n",
       "      <td>0.887300</td>\n",
       "      <td>0.8645</td>\n",
       "    </tr>\n",
       "    <tr>\n",
       "      <th>13</th>\n",
       "      <td>2</td>\n",
       "      <td>relu_200x2_RMSprop</td>\n",
       "      <td>3</td>\n",
       "      <td>200</td>\n",
       "      <td>RMSprop</td>\n",
       "      <td>0.300952</td>\n",
       "      <td>0.371057</td>\n",
       "      <td>0.888883</td>\n",
       "      <td>0.8679</td>\n",
       "    </tr>\n",
       "    <tr>\n",
       "      <th>14</th>\n",
       "      <td>2</td>\n",
       "      <td>relu_200x2_Adam</td>\n",
       "      <td>3</td>\n",
       "      <td>200</td>\n",
       "      <td>Adam</td>\n",
       "      <td>0.240012</td>\n",
       "      <td>0.342313</td>\n",
       "      <td>0.913000</td>\n",
       "      <td>0.8785</td>\n",
       "    </tr>\n",
       "    <tr>\n",
       "      <th>15</th>\n",
       "      <td>2</td>\n",
       "      <td>relu_200x2_Adagrad</td>\n",
       "      <td>3</td>\n",
       "      <td>200</td>\n",
       "      <td>Adagrad</td>\n",
       "      <td>0.291980</td>\n",
       "      <td>0.362289</td>\n",
       "      <td>0.897250</td>\n",
       "      <td>0.8721</td>\n",
       "    </tr>\n",
       "  </tbody>\n",
       "</table>\n",
       "</div>"
      ],
      "text/plain": [
       "    group                name  n_layers  n_neurons optimizer  train_loss  \\\n",
       "12      2      relu_200x2_SGD         3        200       SGD    0.318202   \n",
       "13      2  relu_200x2_RMSprop         3        200   RMSprop    0.300952   \n",
       "14      2     relu_200x2_Adam         3        200      Adam    0.240012   \n",
       "15      2  relu_200x2_Adagrad         3        200   Adagrad    0.291980   \n",
       "\n",
       "    test_loss  train_accuracy  test_accuracy  \n",
       "12   0.379655        0.887300         0.8645  \n",
       "13   0.371057        0.888883         0.8679  \n",
       "14   0.342313        0.913000         0.8785  \n",
       "15   0.362289        0.897250         0.8721  "
      ]
     },
     "execution_count": 19,
     "metadata": {},
     "output_type": "execute_result"
    }
   ],
   "source": [
    "pd.DataFrame(models).loc[pd.DataFrame(models)['group'] == 2].drop(['model', 'hystory'],axis=1)"
   ]
  },
  {
   "cell_type": "code",
   "execution_count": 20,
   "metadata": {},
   "outputs": [
    {
     "data": {
      "image/png": "[encoded data removed]",
      "text/plain": [
       "<Figure size 1080x504 with 1 Axes>"
      ]
     },
     "metadata": {
      "needs_background": "light"
     },
     "output_type": "display_data"
    }
   ],
   "source": [
    "plt.figure(figsize=(15,7))\n",
    "for model in models:\n",
    "    if model['group'] == 2:\n",
    "        hh = model['hystory']\n",
    "    #     plt.plot(hh.history['loss'], label = f'{model[\"name\"]} train')\n",
    "        plt.plot(hh.history['val_loss'], label = f'{model[\"name\"]} val')\n",
    "plt.xlabel('эпох')\n",
    "plt.ylabel('loss')\n",
    "plt.legend()\n",
    "plt.grid('On')\n",
    "plt.title('потери от эпох')\n",
    "plt.show()"
   ]
  },
  {
   "cell_type": "markdown",
   "metadata": {},
   "source": [
    "Adam оказался лучшим вариантом для данного случая"
   ]
  },
  {
   "cell_type": "markdown",
   "metadata": {},
   "source": [
    "## Оценим полноту и точность каждого класса одной из сетей"
   ]
  },
  {
   "cell_type": "code",
   "execution_count": 21,
   "metadata": {},
   "outputs": [],
   "source": [
    "model = pd.DataFrame(models).iloc[14]['model']"
   ]
  },
  {
   "cell_type": "code",
   "execution_count": 22,
   "metadata": {},
   "outputs": [
    {
     "name": "stdout",
     "output_type": "stream",
     "text": [
      "313/313 [==============================] - 0s 1ms/step\n"
     ]
    },
    {
     "data": {
      "text/plain": [
       "array([9, 2, 1, ..., 8, 1, 5], dtype=int64)"
      ]
     },
     "execution_count": 22,
     "metadata": {},
     "output_type": "execute_result"
    }
   ],
   "source": [
    "y_pred = np.argmax(model.predict(test_images), axis=1)\n",
    "y_pred"
   ]
  },
  {
   "cell_type": "code",
   "execution_count": 23,
   "metadata": {},
   "outputs": [
    {
     "data": {
      "text/plain": [
       "array([9, 2, 1, ..., 8, 1, 5], dtype=uint8)"
      ]
     },
     "execution_count": 23,
     "metadata": {},
     "output_type": "execute_result"
    }
   ],
   "source": [
    "test_labelsf"
   ]
  },
  {
   "cell_type": "code",
   "execution_count": 24,
   "metadata": {},
   "outputs": [
    {
     "data": {
      "text/html": [
       "<div>\n",
       "<style scoped>\n",
       "    .dataframe tbody tr th:only-of-type {\n",
       "        vertical-align: middle;\n",
       "    }\n",
       "\n",
       "    .dataframe tbody tr th {\n",
       "        vertical-align: top;\n",
       "    }\n",
       "\n",
       "    .dataframe thead th {\n",
       "        text-align: right;\n",
       "    }\n",
       "</style>\n",
       "<table border=\"1\" class=\"dataframe\">\n",
       "  <thead>\n",
       "    <tr style=\"text-align: right;\">\n",
       "      <th></th>\n",
       "      <th>0</th>\n",
       "      <th>1</th>\n",
       "      <th>2</th>\n",
       "      <th>3</th>\n",
       "      <th>4</th>\n",
       "      <th>5</th>\n",
       "      <th>6</th>\n",
       "      <th>7</th>\n",
       "      <th>8</th>\n",
       "      <th>9</th>\n",
       "    </tr>\n",
       "  </thead>\n",
       "  <tbody>\n",
       "    <tr>\n",
       "      <th>0</th>\n",
       "      <td>852</td>\n",
       "      <td>3</td>\n",
       "      <td>22</td>\n",
       "      <td>20</td>\n",
       "      <td>3</td>\n",
       "      <td>1</td>\n",
       "      <td>93</td>\n",
       "      <td>0</td>\n",
       "      <td>6</td>\n",
       "      <td>0</td>\n",
       "    </tr>\n",
       "    <tr>\n",
       "      <th>1</th>\n",
       "      <td>1</td>\n",
       "      <td>980</td>\n",
       "      <td>1</td>\n",
       "      <td>12</td>\n",
       "      <td>3</td>\n",
       "      <td>0</td>\n",
       "      <td>3</td>\n",
       "      <td>0</td>\n",
       "      <td>0</td>\n",
       "      <td>0</td>\n",
       "    </tr>\n",
       "    <tr>\n",
       "      <th>2</th>\n",
       "      <td>16</td>\n",
       "      <td>3</td>\n",
       "      <td>830</td>\n",
       "      <td>13</td>\n",
       "      <td>70</td>\n",
       "      <td>1</td>\n",
       "      <td>64</td>\n",
       "      <td>0</td>\n",
       "      <td>3</td>\n",
       "      <td>0</td>\n",
       "    </tr>\n",
       "    <tr>\n",
       "      <th>3</th>\n",
       "      <td>29</td>\n",
       "      <td>31</td>\n",
       "      <td>15</td>\n",
       "      <td>867</td>\n",
       "      <td>32</td>\n",
       "      <td>0</td>\n",
       "      <td>22</td>\n",
       "      <td>0</td>\n",
       "      <td>4</td>\n",
       "      <td>0</td>\n",
       "    </tr>\n",
       "    <tr>\n",
       "      <th>4</th>\n",
       "      <td>2</td>\n",
       "      <td>3</td>\n",
       "      <td>112</td>\n",
       "      <td>22</td>\n",
       "      <td>815</td>\n",
       "      <td>0</td>\n",
       "      <td>45</td>\n",
       "      <td>0</td>\n",
       "      <td>1</td>\n",
       "      <td>0</td>\n",
       "    </tr>\n",
       "    <tr>\n",
       "      <th>5</th>\n",
       "      <td>0</td>\n",
       "      <td>0</td>\n",
       "      <td>0</td>\n",
       "      <td>1</td>\n",
       "      <td>0</td>\n",
       "      <td>956</td>\n",
       "      <td>0</td>\n",
       "      <td>20</td>\n",
       "      <td>0</td>\n",
       "      <td>23</td>\n",
       "    </tr>\n",
       "    <tr>\n",
       "      <th>6</th>\n",
       "      <td>142</td>\n",
       "      <td>2</td>\n",
       "      <td>90</td>\n",
       "      <td>27</td>\n",
       "      <td>74</td>\n",
       "      <td>0</td>\n",
       "      <td>654</td>\n",
       "      <td>0</td>\n",
       "      <td>11</td>\n",
       "      <td>0</td>\n",
       "    </tr>\n",
       "    <tr>\n",
       "      <th>7</th>\n",
       "      <td>1</td>\n",
       "      <td>0</td>\n",
       "      <td>0</td>\n",
       "      <td>0</td>\n",
       "      <td>0</td>\n",
       "      <td>36</td>\n",
       "      <td>0</td>\n",
       "      <td>916</td>\n",
       "      <td>0</td>\n",
       "      <td>47</td>\n",
       "    </tr>\n",
       "    <tr>\n",
       "      <th>8</th>\n",
       "      <td>7</td>\n",
       "      <td>0</td>\n",
       "      <td>4</td>\n",
       "      <td>9</td>\n",
       "      <td>1</td>\n",
       "      <td>9</td>\n",
       "      <td>14</td>\n",
       "      <td>6</td>\n",
       "      <td>949</td>\n",
       "      <td>1</td>\n",
       "    </tr>\n",
       "    <tr>\n",
       "      <th>9</th>\n",
       "      <td>1</td>\n",
       "      <td>0</td>\n",
       "      <td>0</td>\n",
       "      <td>0</td>\n",
       "      <td>0</td>\n",
       "      <td>6</td>\n",
       "      <td>0</td>\n",
       "      <td>27</td>\n",
       "      <td>0</td>\n",
       "      <td>966</td>\n",
       "    </tr>\n",
       "  </tbody>\n",
       "</table>\n",
       "</div>"
      ],
      "text/plain": [
       "     0    1    2    3    4    5    6    7    8    9\n",
       "0  852    3   22   20    3    1   93    0    6    0\n",
       "1    1  980    1   12    3    0    3    0    0    0\n",
       "2   16    3  830   13   70    1   64    0    3    0\n",
       "3   29   31   15  867   32    0   22    0    4    0\n",
       "4    2    3  112   22  815    0   45    0    1    0\n",
       "5    0    0    0    1    0  956    0   20    0   23\n",
       "6  142    2   90   27   74    0  654    0   11    0\n",
       "7    1    0    0    0    0   36    0  916    0   47\n",
       "8    7    0    4    9    1    9   14    6  949    1\n",
       "9    1    0    0    0    0    6    0   27    0  966"
      ]
     },
     "execution_count": 24,
     "metadata": {},
     "output_type": "execute_result"
    }
   ],
   "source": [
    "cm = pd.DataFrame(confusion_matrix(test_labelsf, y_pred))\n",
    "cm"
   ]
  },
  {
   "cell_type": "markdown",
   "metadata": {},
   "source": [
    "Похоже, что некоторые классы довольно трудно распознаются этой сетью"
   ]
  },
  {
   "cell_type": "code",
   "execution_count": 25,
   "metadata": {},
   "outputs": [
    {
     "name": "stdout",
     "output_type": "stream",
     "text": [
      "0: precision = 0.852,\t recall = 0.8106565176022835\n",
      "1: precision = 0.98,\t recall = 0.958904109589041\n",
      "2: precision = 0.83,\t recall = 0.7728119180633147\n",
      "3: precision = 0.867,\t recall = 0.8928939237899073\n",
      "4: precision = 0.815,\t recall = 0.8166332665330661\n",
      "5: precision = 0.956,\t recall = 0.9474727452923687\n",
      "6: precision = 0.654,\t recall = 0.7307262569832402\n",
      "7: precision = 0.916,\t recall = 0.9453044375644994\n",
      "8: precision = 0.949,\t recall = 0.9743326488706365\n",
      "9: precision = 0.966,\t recall = 0.9315332690453231\n"
     ]
    }
   ],
   "source": [
    "for i in range(10):\n",
    "    precision = cm[i][i] / sum(cm.iloc[i])\n",
    "    recall = cm[i][i] / sum(cm[i])\n",
    "    print(f'{i}: precision = {precision},\\t recall = {recall}')"
   ]
  },
  {
   "cell_type": "code",
   "execution_count": 26,
   "metadata": {},
   "outputs": [
    {
     "data": {
      "image/png": "[encoded data removed]",
      "text/plain": [
       "<Figure size 2880x720 with 10 Axes>"
      ]
     },
     "metadata": {
      "needs_background": "light"
     },
     "output_type": "display_data"
    }
   ],
   "source": [
    "plt.figure(figsize =(40,10))\n",
    "for i in range(10):\n",
    "    for j in range(len(test_images)):\n",
    "        if test_labelsf[j] == i:\n",
    "            plt.subplot(1,20,i+1)\n",
    "            plt.imshow(test_images[i,:].reshape(28,28))\n",
    "            plt.xlabel(str(i))\n",
    "            break"
   ]
  },
  {
   "cell_type": "markdown",
   "metadata": {},
   "source": [
    "Очень странно, что класс курток (6) для этой сети так сложно отличить от класса ботинок (0), при том, что с рубашками (7) ни разу не перепутал. Видимо параметры нужно лучше подбирать, но, к сожалению, я уже затянул со сдачей этого ДЗ"
   ]
  }
 ],
 "metadata": {
  "accelerator": "GPU",
  "colab": {
   "collapsed_sections": [
    "NRSQbmXD9U98",
    "m2wW13WB9U99",
    "v6h1K5ET9U9_"
   ],
   "provenance": []
  },
  "kernelspec": {
   "display_name": "Python 3 (ipykernel)",
   "language": "python",
   "name": "python3"
  },
  "language_info": {
   "codemirror_mode": {
    "name": "ipython",
    "version": 3
   },
   "file_extension": ".py",
   "mimetype": "text/x-python",
   "name": "python",
   "nbconvert_exporter": "python",
   "pygments_lexer": "ipython3",
   "version": "3.8.5"
  }
 },
 "nbformat": 4,
 "nbformat_minor": 1
}
